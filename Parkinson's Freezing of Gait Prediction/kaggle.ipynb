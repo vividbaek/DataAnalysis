{
 "cells": [
  {
   "attachments": {},
   "cell_type": "markdown",
   "metadata": {},
   "source": [
    "# Parkinson's Freezing of Gait Prediction\n",
    "파키스타\n",
    "\n",
    "\n",
    "\n",
    "Freezing of Gait (Fog) - 걸음걸이의 멈춤 / 보행 동결 : 파키스탄병 환자들이 걷는 도중에 갑작스럽게 발이 땅에 붙은 듯이 멈춰서 움직이지 못하는 증ㅅ앙을 가리킴."
   ]
  },
  {
   "cell_type": "code",
   "execution_count": null,
   "metadata": {},
   "outputs": [],
   "source": []
  }
 ],
 "metadata": {
  "language_info": {
   "name": "python"
  },
  "orig_nbformat": 4
 },
 "nbformat": 4,
 "nbformat_minor": 2
}
